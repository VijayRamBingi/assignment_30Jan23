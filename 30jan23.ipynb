{
 "cells": [
  {
   "cell_type": "markdown",
   "id": "fe390cf0-f241-4b0a-827c-c00940fd447e",
   "metadata": {},
   "source": [
    "## Q1) Write a program to accept percentage from the user and display the grade according to the following "
   ]
  },
  {
   "cell_type": "markdown",
   "id": "b4f2c5eb-8623-468b-9836-e15df78c5f94",
   "metadata": {},
   "source": [
    "### marks > 90 garde A , marks >80 & <=90 grade B , marks >=60 & <=80 garde c , marks <60 garde D"
   ]
  },
  {
   "cell_type": "code",
   "execution_count": 12,
   "id": "bf387b55-5fda-4427-b4d8-452845a6d59f",
   "metadata": {},
   "outputs": [
    {
     "name": "stdin",
     "output_type": "stream",
     "text": [
      " 45\n"
     ]
    },
    {
     "name": "stdout",
     "output_type": "stream",
     "text": [
      "Grade is D\n"
     ]
    }
   ],
   "source": [
    "a= float(input())\n",
    "if a>90 and a<=100:\n",
    "    print(\"Grade is A\")\n",
    "elif a>80 and a<=90:\n",
    "    print(\"Grade is B\")\n",
    "elif a>=60 and a<=80:\n",
    "    print(\"Grade is c\")\n",
    "elif a<60:\n",
    "    print(\"Grade is D\")\n",
    "else :\n",
    "    print(\"Please enter the grade between 0 to 100\")"
   ]
  },
  {
   "cell_type": "markdown",
   "id": "cb743f82-6c0e-4c0c-b7e0-7969139a1d9c",
   "metadata": {},
   "source": [
    "#"
   ]
  },
  {
   "cell_type": "markdown",
   "id": "867bd52e-2e14-4b39-8a58-15525d2f1f6b",
   "metadata": {},
   "source": [
    "#"
   ]
  },
  {
   "cell_type": "markdown",
   "id": "a41663ba-0d8c-41ae-ae2b-c7439438a720",
   "metadata": {},
   "source": [
    "## Q2) Write a program to accept the cost price of a bike and display the road tax to be paid according to the following criteria"
   ]
  },
  {
   "cell_type": "markdown",
   "id": "96b933fd-9cc5-43be-b3e2-ff055e332797",
   "metadata": {},
   "source": [
    "### CP > 100000 tax 15% , CP > 50000 & <= 100000 Tax is 10 % , CP <= 50000 Tax is 5%"
   ]
  },
  {
   "cell_type": "code",
   "execution_count": 4,
   "id": "4ffcc48a-7895-4e86-8635-1678d11cb8f4",
   "metadata": {},
   "outputs": [
    {
     "name": "stdin",
     "output_type": "stream",
     "text": [
      " -10\n"
     ]
    },
    {
     "name": "stdout",
     "output_type": "stream",
     "text": [
      "Please enter the correct Cost Price\n"
     ]
    }
   ],
   "source": [
    "b= float(input())\n",
    "if b > 100000:\n",
    "    print(\"Payable Tax is 15%\")\n",
    "elif b>50000 and b<=100000:\n",
    "    print(\"Payable Tax is 10%\")\n",
    "elif b>0 and b<=50000:\n",
    "    print(\"Payable Tax is 5%\")\n",
    "else:\n",
    "    print(\"Please enter the correct Cost Price\")"
   ]
  },
  {
   "cell_type": "markdown",
   "id": "ca88bf92-1255-445c-8bb8-51288612b731",
   "metadata": {},
   "source": [
    "#\n",
    "\n"
   ]
  },
  {
   "cell_type": "markdown",
   "id": "8a545242-367f-481d-8d2c-3f046f619044",
   "metadata": {},
   "source": [
    "#"
   ]
  },
  {
   "cell_type": "markdown",
   "id": "4b80f1a9-9959-4837-b1d4-66e7e3573ff8",
   "metadata": {},
   "source": [
    "## Q3) write a program to accept any city from the user and display the monuments of that city "
   ]
  },
  {
   "cell_type": "markdown",
   "id": "5c30cdc5-cb8b-4f0b-84dc-9c2aafeccc79",
   "metadata": {},
   "source": [
    "### Delhi - Red fort , agra - taj mahal , jaipur - jal mahal"
   ]
  },
  {
   "cell_type": "code",
   "execution_count": 8,
   "id": "07b1a5eb-e30e-4df1-a8d2-1ef564a5d515",
   "metadata": {},
   "outputs": [
    {
     "name": "stdout",
     "output_type": "stream",
     "text": [
      "Enter any of the city names of Delhi, Agra and Jaipur\n"
     ]
    },
    {
     "name": "stdin",
     "output_type": "stream",
     "text": [
      " Delhi\n"
     ]
    },
    {
     "name": "stdout",
     "output_type": "stream",
     "text": [
      "RED FORT\n"
     ]
    }
   ],
   "source": [
    "print(\"Enter any of the city names of Delhi, Agra and Jaipur\")\n",
    "a=str(input())\n",
    "if a==\"Delhi\" :\n",
    "    print(\"RED FORT\")\n",
    "elif a==\"Agra\":\n",
    "    print(\"TAJ MAHAL\")\n",
    "elif a==\"Jaipur\":\n",
    "    print(\"JAl MAHAL\")\n",
    "else:\n",
    "    print(\"Enter the correct city name\")"
   ]
  },
  {
   "cell_type": "markdown",
   "id": "215a4e6b-3254-4eb1-a202-f82904c04b2f",
   "metadata": {},
   "source": [
    "#"
   ]
  },
  {
   "cell_type": "markdown",
   "id": "7e87c069-62b4-478d-b818-39f5ad4a352e",
   "metadata": {},
   "source": [
    "#"
   ]
  },
  {
   "cell_type": "markdown",
   "id": "8b9c9624-548f-43cd-925b-aa8002d935b6",
   "metadata": {},
   "source": [
    "## Q4) Program to Check how many times a given number can be divided by 3 before it is less than or equal to 10"
   ]
  },
  {
   "cell_type": "code",
   "execution_count": 11,
   "id": "39de6a03-8a49-4538-b731-c336180a85df",
   "metadata": {},
   "outputs": [
    {
     "name": "stdin",
     "output_type": "stream",
     "text": [
      "Enter a number:  77\n"
     ]
    },
    {
     "name": "stdout",
     "output_type": "stream",
     "text": [
      "The number can be divided by 3  ,  2 times before it is less than or equal to 10.\n"
     ]
    }
   ],
   "source": [
    "n = int(input(\"Enter a number: \"))\n",
    "count = 0\n",
    "while n > 10:\n",
    "    n /= 3\n",
    "    count += 1\n",
    "print(\"The number can be divided by 3  , \", count, \"times before it is less than or equal to 10.\")"
   ]
  },
  {
   "cell_type": "markdown",
   "id": "32c7e524-c3fb-4646-9568-e9e93f9b102c",
   "metadata": {},
   "source": [
    "#"
   ]
  },
  {
   "cell_type": "markdown",
   "id": "eecf4cb5-b3ba-427c-a5dd-7cfed0ecf460",
   "metadata": {},
   "source": [
    "#"
   ]
  },
  {
   "cell_type": "markdown",
   "id": "21b376e5-aa0b-4989-918f-cac99fb50b92",
   "metadata": {},
   "source": [
    "## Q5) Why and When to use While loop in python give a detailed description with examples"
   ]
  },
  {
   "cell_type": "markdown",
   "id": "670f559f-9bc6-4934-8fb6-3a6db28edf01",
   "metadata": {},
   "source": [
    "### A ) While Loop :\n",
    "  * In Python, a while loop is used to repeatedly execute a block of code until a specific condition is met. The while loop evaluates the condition at the beginning of each iteration, and if the condition is true, the block of code inside the loop is executed. The loop continues until the condition becomes false."
   ]
  },
  {
   "cell_type": "code",
   "execution_count": 15,
   "id": "57688abd-bd12-49dc-a223-0bbc916ff862",
   "metadata": {},
   "outputs": [
    {
     "name": "stdout",
     "output_type": "stream",
     "text": [
      "1\n",
      "2\n",
      "3\n"
     ]
    }
   ],
   "source": [
    "i=1\n",
    "n=3\n",
    "\n",
    "while i <= n:\n",
    "    print(i)\n",
    "    i=i+1"
   ]
  },
  {
   "cell_type": "markdown",
   "id": "9f8af3a6-269c-484b-b269-a8735f0abe36",
   "metadata": {},
   "source": [
    "**In the above example**\n",
    "\n",
    "* first iteration i=1 , n=3    ---> True and   1 is printed and i is incremented to 2\n",
    "\n",
    "* second iteration i=2 , n=3   ---> True and   2 is printed and i is incremented to 3\n",
    "\n",
    "* third iteration i=3 , n=3    ---> True and   3 is printed and i is incremented to 4\n",
    "\n",
    "* fourth iteration i=4 , n=3   ---> False and loop is terminated\n",
    "\n",
    "**the while loop is used to repeatedly execute a block of code until a specific condition is met. It's important to make sure that the condition will eventually become false, otherwise the loop will continue indefinitely, resulting in an infinite loop.**"
   ]
  },
  {
   "cell_type": "markdown",
   "id": "766d2f17-f853-4e1f-9c17-749304e41531",
   "metadata": {},
   "source": [
    "#"
   ]
  },
  {
   "cell_type": "markdown",
   "id": "4a41e706-071a-419f-8a1f-6f5dde852dea",
   "metadata": {},
   "source": [
    "#"
   ]
  },
  {
   "cell_type": "markdown",
   "id": "96125cb9-161f-493c-99ab-ab6855e461c1",
   "metadata": {},
   "source": [
    "## Q6) program to use nested while loop to print 3 different patterns"
   ]
  },
  {
   "cell_type": "code",
   "execution_count": 17,
   "id": "f7006cd7-bc01-4e32-ad61-9034e4223987",
   "metadata": {},
   "outputs": [
    {
     "name": "stdout",
     "output_type": "stream",
     "text": [
      "*\n",
      "**\n",
      "***\n",
      "****\n",
      "*****\n",
      "1\n",
      "22\n",
      "333\n",
      "4444\n",
      "55555\n",
      "1\n",
      "12\n",
      "123\n",
      "1234\n",
      "12345\n",
      "54321\n",
      "5432\n",
      "543\n",
      "54\n",
      "5\n"
     ]
    }
   ],
   "source": [
    "# Pattern 1\n",
    "i = 1\n",
    "while i <= 5:\n",
    "    j = 1\n",
    "    while j <= i:\n",
    "        print(\"*\", end=\"\")\n",
    "        j += 1\n",
    "    print()\n",
    "    i += 1\n",
    "\n",
    "# Pattern 2\n",
    "i = 1\n",
    "while i <= 5:\n",
    "    j = 1\n",
    "    while j <= i:\n",
    "        print(i, end=\"\")\n",
    "        j += 1\n",
    "    print()\n",
    "    i += 1\n",
    "\n",
    "# Pattern 3\n",
    "i = 1\n",
    "while i <= 5:\n",
    "    j = 1\n",
    "    while j <= i:\n",
    "        print(j, end=\"\")\n",
    "        j += 1\n",
    "    print()\n",
    "    i += 1\n",
    "\n",
    "# Pattern 4\n",
    "i = 1\n",
    "while i <= 5:\n",
    "    j = 5\n",
    "    while j >= i:\n",
    "        print(j, end=\"\")\n",
    "        j -= 1\n",
    "    print()\n",
    "    i += 1"
   ]
  },
  {
   "cell_type": "markdown",
   "id": "2d2c35ec-e6ee-41a0-8d3c-d336c9fc1b79",
   "metadata": {},
   "source": [
    "#"
   ]
  },
  {
   "cell_type": "markdown",
   "id": "6ac563b7-9e4f-4aa5-b37f-2e2e11349ec6",
   "metadata": {},
   "source": [
    "#"
   ]
  },
  {
   "cell_type": "markdown",
   "id": "c015d581-6f58-4ace-8723-efc22dd1a423",
   "metadata": {},
   "source": [
    "## Q7) Python program to Reverse a while loop to display numbers from 10 t0 1"
   ]
  },
  {
   "cell_type": "code",
   "execution_count": 18,
   "id": "b89a5eef-4797-4466-ba83-a4b51ba0973d",
   "metadata": {},
   "outputs": [
    {
     "name": "stdout",
     "output_type": "stream",
     "text": [
      "10\n",
      "9\n",
      "8\n",
      "7\n",
      "6\n",
      "5\n",
      "4\n",
      "3\n",
      "2\n",
      "1\n"
     ]
    }
   ],
   "source": [
    "i = 10\n",
    "while i >= 1:\n",
    "    print(i)\n",
    "    i -= 1"
   ]
  },
  {
   "cell_type": "markdown",
   "id": "48e5a25d-c1a8-4d4c-bf27-279698a91f90",
   "metadata": {},
   "source": [
    "## Q8) Python program to Reverse a for loop to display numbers from 10 t0 1"
   ]
  },
  {
   "cell_type": "code",
   "execution_count": 20,
   "id": "ccbca841-fa17-40c1-b11d-e86202fac1d6",
   "metadata": {},
   "outputs": [
    {
     "name": "stdout",
     "output_type": "stream",
     "text": [
      "10\n",
      "9\n",
      "8\n",
      "7\n",
      "6\n",
      "5\n",
      "4\n",
      "3\n",
      "2\n",
      "1\n"
     ]
    }
   ],
   "source": [
    "for i in range(10, 0, -1):\n",
    "    print(i)\n"
   ]
  },
  {
   "cell_type": "code",
   "execution_count": null,
   "id": "541df29f-5696-4ce2-bd25-4c46d682cff4",
   "metadata": {},
   "outputs": [],
   "source": []
  }
 ],
 "metadata": {
  "kernelspec": {
   "display_name": "Python 3 (ipykernel)",
   "language": "python",
   "name": "python3"
  },
  "language_info": {
   "codemirror_mode": {
    "name": "ipython",
    "version": 3
   },
   "file_extension": ".py",
   "mimetype": "text/x-python",
   "name": "python",
   "nbconvert_exporter": "python",
   "pygments_lexer": "ipython3",
   "version": "3.10.8"
  }
 },
 "nbformat": 4,
 "nbformat_minor": 5
}
